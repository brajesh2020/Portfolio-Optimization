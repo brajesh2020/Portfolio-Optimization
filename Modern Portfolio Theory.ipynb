{
 "cells": [
  {
   "cell_type": "code",
   "execution_count": 1,
   "metadata": {},
   "outputs": [],
   "source": [
    "%matplotlib ipympl\n",
    "\n",
    "import pandas as pd\n",
    "import numpy as np\n",
    "import pandas_datareader.data as web\n",
    "import datetime as dt\n",
    "import matplotlib.pyplot as plt"
   ]
  },
  {
   "cell_type": "code",
   "execution_count": 2,
   "metadata": {
    "scrolled": true
   },
   "outputs": [
    {
     "data": {
      "text/html": [
       "<div>\n",
       "<style scoped>\n",
       "    .dataframe tbody tr th:only-of-type {\n",
       "        vertical-align: middle;\n",
       "    }\n",
       "\n",
       "    .dataframe tbody tr th {\n",
       "        vertical-align: top;\n",
       "    }\n",
       "\n",
       "    .dataframe thead th {\n",
       "        text-align: right;\n",
       "    }\n",
       "</style>\n",
       "<table border=\"1\" class=\"dataframe\">\n",
       "  <thead>\n",
       "    <tr style=\"text-align: right;\">\n",
       "      <th>Symbols</th>\n",
       "      <th>IPCALAB.NS</th>\n",
       "      <th>PVR.NS</th>\n",
       "      <th>RELAXO.NS</th>\n",
       "      <th>TATAMOTORS.NS</th>\n",
       "    </tr>\n",
       "    <tr>\n",
       "      <th>Date</th>\n",
       "      <th></th>\n",
       "      <th></th>\n",
       "      <th></th>\n",
       "      <th></th>\n",
       "    </tr>\n",
       "  </thead>\n",
       "  <tbody>\n",
       "    <tr>\n",
       "      <th>2019-01-01</th>\n",
       "      <td>NaN</td>\n",
       "      <td>NaN</td>\n",
       "      <td>NaN</td>\n",
       "      <td>NaN</td>\n",
       "    </tr>\n",
       "    <tr>\n",
       "      <th>2019-01-02</th>\n",
       "      <td>-0.020212</td>\n",
       "      <td>-0.004421</td>\n",
       "      <td>0.000406</td>\n",
       "      <td>-0.028250</td>\n",
       "    </tr>\n",
       "    <tr>\n",
       "      <th>2019-01-03</th>\n",
       "      <td>-0.015253</td>\n",
       "      <td>-0.035810</td>\n",
       "      <td>0.010691</td>\n",
       "      <td>-0.014832</td>\n",
       "    </tr>\n",
       "    <tr>\n",
       "      <th>2019-01-04</th>\n",
       "      <td>-0.000825</td>\n",
       "      <td>0.027765</td>\n",
       "      <td>0.003950</td>\n",
       "      <td>0.029509</td>\n",
       "    </tr>\n",
       "    <tr>\n",
       "      <th>2019-01-07</th>\n",
       "      <td>-0.003685</td>\n",
       "      <td>0.006325</td>\n",
       "      <td>0.005201</td>\n",
       "      <td>0.025739</td>\n",
       "    </tr>\n",
       "  </tbody>\n",
       "</table>\n",
       "</div>"
      ],
      "text/plain": [
       "Symbols     IPCALAB.NS    PVR.NS  RELAXO.NS  TATAMOTORS.NS\n",
       "Date                                                      \n",
       "2019-01-01         NaN       NaN        NaN            NaN\n",
       "2019-01-02   -0.020212 -0.004421   0.000406      -0.028250\n",
       "2019-01-03   -0.015253 -0.035810   0.010691      -0.014832\n",
       "2019-01-04   -0.000825  0.027765   0.003950       0.029509\n",
       "2019-01-07   -0.003685  0.006325   0.005201       0.025739"
      ]
     },
     "execution_count": 2,
     "metadata": {},
     "output_type": "execute_result"
    }
   ],
   "source": [
    "stocks = ['IPCALAB.NS', 'TATAMOTORS.NS', 'RELAXO.NS', 'PVR.NS']\n",
    "\n",
    "start = dt.datetime(2019,1,1)\n",
    "end = dt.datetime(2020,1,1)\n",
    "data = web.get_data_yahoo(stocks, start, end)['Adj Close']\n",
    "\n",
    "data.sort_index(inplace = True)\n",
    "\n",
    "returns = data.pct_change()\n",
    "returns.head()"
   ]
  },
  {
   "cell_type": "markdown",
   "metadata": {},
   "source": [
    "# Method of Monte Carlo Simulation"
   ]
  },
  {
   "cell_type": "code",
   "execution_count": 3,
   "metadata": {},
   "outputs": [
    {
     "name": "stderr",
     "output_type": "stream",
     "text": [
      "C:\\Users\\Utsav\\Anaconda3\\lib\\site-packages\\ipykernel_launcher.py:29: DeprecationWarning: \n",
      ".ix is deprecated. Please use\n",
      ".loc for label based indexing or\n",
      ".iloc for positional indexing\n",
      "\n",
      "See the documentation here:\n",
      "http://pandas.pydata.org/pandas-docs/stable/indexing.html#ix-indexer-is-deprecated\n",
      "C:\\Users\\Utsav\\Anaconda3\\lib\\site-packages\\ipykernel_launcher.py:32: DeprecationWarning: \n",
      ".ix is deprecated. Please use\n",
      ".loc for label based indexing or\n",
      ".iloc for positional indexing\n",
      "\n",
      "See the documentation here:\n",
      "http://pandas.pydata.org/pandas-docs/stable/indexing.html#ix-indexer-is-deprecated\n"
     ]
    },
    {
     "data": {
      "application/vnd.jupyter.widget-view+json": {
       "model_id": "7b8e3b55f913404b8e04082d736e8239",
       "version_major": 2,
       "version_minor": 0
      },
      "text/plain": [
       "Canvas(toolbar=Toolbar(toolitems=[('Home', 'Reset original view', 'home', 'home'), ('Back', 'Back to previous …"
      ]
     },
     "metadata": {},
     "output_type": "display_data"
    }
   ],
   "source": [
    "mean_daily_returns = returns.mean()\n",
    "cov_matrix = returns.cov()\n",
    "\n",
    "risk_free_rate = 4.36/100\n",
    "\n",
    "num_portfolios = 50000\n",
    "\n",
    "#Set up an array to hold the results\n",
    "res = np.zeros((3+len(stocks),num_portfolios))\n",
    "\n",
    "for i in range(num_portfolios):\n",
    "    weights = np.random.random(len(stocks))\n",
    "    weights/=np.sum(weights)\n",
    "    \n",
    "    portfolio_return = np.sum(mean_daily_returns*weights)*252\n",
    "    portfolio_volatility = np.sqrt(np.dot(weights.T, np.dot(cov_matrix, weights))) *np.sqrt(252)\n",
    "    \n",
    "    res[0,i] = portfolio_return\n",
    "    res[1,i] = portfolio_volatility\n",
    "    \n",
    "    res[2,i] = ((res[0,i]-risk_free_rate))/res[1,i]\n",
    "    \n",
    "    for j in range(len(weights)):\n",
    "        res[j+3,i] = weights[j]\n",
    "\n",
    "returns_df = pd.DataFrame(res.T, columns = ['Returns', 'Volatility', 'Sharpe_Ratio',*[stocks[i] for i in range(len(stocks))]])\n",
    "                                                                                   \n",
    "#locating the position with maximum sharpe ratio\n",
    "max_sharpe_ratio = returns_df.ix[returns_df['Sharpe_Ratio'].idxmax()]\n",
    "\n",
    "#Locating the position with minimum volatility\n",
    "min_vol_port = returns_df.ix[returns_df['Volatility'].idxmin()]\n",
    "\n",
    "plt.scatter(returns_df.Volatility, returns_df.Returns, c = returns_df.Sharpe_Ratio, cmap = 'copper')\n",
    "plt.xlabel('Volatility')\n",
    "plt.ylabel('Returns')\n",
    "plt.colorbar()\n",
    "\n",
    "#Plot a red Star to highlight the potfolio with MAx Sharpe Ratio\n",
    "plt.scatter(max_sharpe_ratio[1], max_sharpe_ratio[0], marker = (5,1,0), color = 'r', s = 1000)\n",
    "\n",
    "#Plot a green star to highlight the Minimum Varience Portfolio\n",
    "plt.scatter(min_vol_port[1], min_vol_port[0], marker = (5,1,0), color = 'g', s = 1000)\n",
    "plt.show()"
   ]
  },
  {
   "cell_type": "code",
   "execution_count": 4,
   "metadata": {},
   "outputs": [
    {
     "name": "stdout",
     "output_type": "stream",
     "text": [
      "Returns          0.474850\n",
      "Volatility       0.181475\n",
      "Sharpe_Ratio     2.376360\n",
      "IPCALAB.NS       0.321460\n",
      "TATAMOTORS.NS    0.094171\n",
      "RELAXO.NS        0.581642\n",
      "PVR.NS           0.002726\n",
      "Name: 37536, dtype: float64\n"
     ]
    }
   ],
   "source": [
    "print(max_sharpe_ratio)"
   ]
  },
  {
   "cell_type": "code",
   "execution_count": 5,
   "metadata": {},
   "outputs": [
    {
     "name": "stdout",
     "output_type": "stream",
     "text": [
      "Returns          0.408182\n",
      "Volatility       0.168072\n",
      "Sharpe_Ratio     2.169201\n",
      "IPCALAB.NS       0.364593\n",
      "TATAMOTORS.NS    0.271364\n",
      "RELAXO.NS        0.363818\n",
      "PVR.NS           0.000225\n",
      "Name: 4986, dtype: float64\n"
     ]
    }
   ],
   "source": [
    "print(min_vol_port)"
   ]
  },
  {
   "cell_type": "markdown",
   "metadata": {},
   "source": []
  },
  {
   "cell_type": "code",
   "execution_count": null,
   "metadata": {},
   "outputs": [],
   "source": []
  }
 ],
 "metadata": {
  "kernelspec": {
   "display_name": "Python 3",
   "language": "python",
   "name": "python3"
  },
  "language_info": {
   "codemirror_mode": {
    "name": "ipython",
    "version": 3
   },
   "file_extension": ".py",
   "mimetype": "text/x-python",
   "name": "python",
   "nbconvert_exporter": "python",
   "pygments_lexer": "ipython3",
   "version": "3.7.3"
  }
 },
 "nbformat": 4,
 "nbformat_minor": 2
}
